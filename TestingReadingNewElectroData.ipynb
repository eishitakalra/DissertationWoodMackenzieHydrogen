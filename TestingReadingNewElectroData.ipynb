{
 "cells": [
  {
   "cell_type": "code",
   "execution_count": 1,
   "metadata": {},
   "outputs": [],
   "source": [
    "import openpyxl\n",
    "import pyarrow\n",
    "import fastparquet\n",
    "import pandas as pd\n",
    "\n",
    "df_load_Replace = pd.read_excel('/Users/eishitakalra/Desktop/Dissertation!!/Data/DissertationWoodMackenzieHydrogen/Copy of Electrolyser data.xlsx',sheet_name = 'Stack replacement')\n",
    "df_load_Life = pd.read_excel('/Users/eishitakalra/Desktop/Dissertation!!/Data/DissertationWoodMackenzieHydrogen/Copy of Electrolyser data.xlsx', sheet_name = 'Stack lifetime')\n"
   ]
  },
  {
   "cell_type": "code",
   "execution_count": 2,
   "metadata": {},
   "outputs": [
    {
     "name": "stdout",
     "output_type": "stream",
     "text": [
      "                           Value\n",
      "Project_Type Year               \n",
      "PEMWE        2022   60000.000000\n",
      "AWE          2022   80000.000000\n",
      "SOEC         2022   25000.000000\n",
      "PEMWE        2023   60714.285714\n",
      "AWE          2023   80714.285714\n",
      "...                          ...\n",
      "             2049   99285.714286\n",
      "SOEC         2049   49107.142857\n",
      "PEMWE        2050   80000.000000\n",
      "AWE          2050  100000.000000\n",
      "SOEC         2050   50000.000000\n",
      "\n",
      "[87 rows x 1 columns]\n"
     ]
    }
   ],
   "source": [
    "\n",
    "df_Containerised_Replacement = df_load_Replace[df_load_Replace['Capacity']== '2MW']\n",
    "df_Modular_Replacement = df_load_Replace[df_load_Replace['Capacity']== '20MW']\n",
    "df_Stickbuilt_Replacement = df_load_Replace[df_load_Replace['Capacity']== '200MW']\n",
    "\n",
    "df_lifetime = df_load_Life.melt(id_vars='Project_Type', var_name='Year', value_name='Value')\n",
    "df_lifetime['Year'] = df_lifetime['Year'].astype(int)\n",
    "df_lifetime.set_index(['Project_Type', 'Year'], inplace=True)\n",
    "print(df_lifetime)"
   ]
  },
  {
   "cell_type": "code",
   "execution_count": 4,
   "metadata": {},
   "outputs": [
    {
     "name": "stdout",
     "output_type": "stream",
     "text": [
      "                       Value\n",
      "Technology Year             \n",
      "AWE        2023   727.670259\n",
      "PEMWE      2023  1001.791183\n",
      "SOEC       2023  2054.138511\n",
      "AWE        2024   718.378088\n",
      "PEMWE      2024   986.856988\n",
      "...                      ...\n",
      "           2089   622.025620\n",
      "SOEC       2089   781.153996\n",
      "AWE        2090   641.434398\n",
      "PEMWE      2090   622.025620\n",
      "SOEC       2090   781.153996\n",
      "\n",
      "[204 rows x 1 columns]\n"
     ]
    }
   ],
   "source": [
    "df_Containerised_Rep = df_Containerised_Replacement.drop(columns= 'Capacity')\n",
    "df_Containerised_Rep = df_Containerised_Rep.melt(id_vars = 'Technology', var_name='Year', value_name='Value')\n",
    "df_Containerised_Rep['Year'] = df_Containerised_Rep['Year'].astype(int)\n",
    "df_Containerised_Rep.set_index(['Technology','Year'], inplace=True)\n",
    "print(df_Containerised_Rep)"
   ]
  },
  {
   "cell_type": "code",
   "execution_count": 6,
   "metadata": {},
   "outputs": [],
   "source": [
    "df_Modular_Rep = df_Modular_Replacement.drop(columns= 'Capacity')\n",
    "df_Modular_Rep = df_Modular_Rep.melt(id_vars = 'Technology', var_name='Year', value_name='Value')\n",
    "df_Modular_Rep['Year'] = df_Modular_Rep['Year'].astype(int)\n",
    "df_Modular_Rep.set_index(['Technology','Year'], inplace=True)\n",
    "\n",
    "df_Stickbuilt_Rep = df_Stickbuilt_Replacement.drop(columns= 'Capacity')\n",
    "df_Stickbuilt_Rep = df_Stickbuilt_Rep.melt(id_vars = 'Technology', var_name='Year', value_name='Value')\n",
    "df_Stickbuilt_Rep['Year'] = df_Stickbuilt_Rep['Year'].astype(int)\n",
    "df_Stickbuilt_Rep.set_index(['Technology','Year'], inplace=True)"
   ]
  },
  {
   "cell_type": "code",
   "execution_count": 2,
   "metadata": {},
   "outputs": [],
   "source": [
    "df_Containerised_Replacement = df_load_Replace[df_load_Replace['Capacity']== '2MW']\n",
    "df_Modular_Replacement = df_load_Replace[df_load_Replace['Capacity']== '20MW']\n",
    "df_Stickbuilt_Replacement = df_load_Replace[df_load_Replace['Capacity']== '200MW']\n",
    "\n",
    "df_lifetime = df_load_Life.melt(id_vars='Project_Type', var_name='Year', value_name='Value')\n",
    "df_lifetime['Year'] = df_lifetime['Year'].astype(int)\n",
    "df_lifetime.set_index(['Project_Type', 'Year'], inplace=True)\n",
    "\n",
    "df_Containerised_Rep = df_Containerised_Replacement.drop(columns= 'Capacity')\n",
    "df_Containerised_Rep = df_Containerised_Rep.melt(id_vars = 'Technology', var_name='Year', value_name='Value')\n",
    "df_Containerised_Rep['Year'] = df_Containerised_Rep['Year'].astype(int)\n",
    "df_Containerised_Rep.set_index(['Technology','Year'], inplace=True)\n",
    "\n",
    "df_Modular_Rep = df_Modular_Replacement.drop(columns= 'Capacity')\n",
    "df_Modular_Rep = df_Modular_Rep.melt(id_vars = 'Technology', var_name='Year', value_name='Value')\n",
    "df_Modular_Rep['Year'] = df_Modular_Rep['Year'].astype(int)\n",
    "df_Modular_Rep.set_index(['Technology','Year'], inplace=True)\n",
    "\n",
    "df_Stickbuilt_Rep = df_Stickbuilt_Replacement.drop(columns= 'Capacity')\n",
    "df_Stickbuilt_Rep = df_Stickbuilt_Rep.melt(id_vars = 'Technology', var_name='Year', value_name='Value')\n",
    "df_Stickbuilt_Rep['Year'] = df_Stickbuilt_Rep['Year'].astype(int)\n",
    "df_Stickbuilt_Rep.set_index(['Technology','Year'], inplace=True)"
   ]
  },
  {
   "cell_type": "code",
   "execution_count": 6,
   "metadata": {},
   "outputs": [
    {
     "name": "stdout",
     "output_type": "stream",
     "text": [
      "                       Value\n",
      "Technology Year             \n",
      "AWE        2023   727.670259\n",
      "PEMWE      2023  1001.791183\n",
      "SOEC       2023  2054.138511\n",
      "AWE        2024   718.378088\n",
      "PEMWE      2024   986.856988\n",
      "...                      ...\n",
      "           2089   483.765337\n",
      "SOEC       2089   715.879149\n",
      "AWE        2090   513.068018\n",
      "PEMWE      2090   483.765337\n",
      "SOEC       2090   715.879149\n",
      "\n",
      "[204 rows x 1 columns]\n"
     ]
    }
   ],
   "source": [
    "print(df_Stickbuilt_Rep)"
   ]
  },
  {
   "cell_type": "code",
   "execution_count": null,
   "metadata": {},
   "outputs": [],
   "source": [
    "\n",
    "\n",
    "T = list(\n",
    "        df_RE[['Report_Year', 'Report_Month', 'Report_Day', 'Report_Hour']]\n",
    "        .drop_duplicates()\n",
    "        .itertuples(index=False, name=None)\n",
    "    )"
   ]
  }
 ],
 "metadata": {
  "kernelspec": {
   "display_name": "Xpress",
   "language": "python",
   "name": "python3"
  },
  "language_info": {
   "codemirror_mode": {
    "name": "ipython",
    "version": 3
   },
   "file_extension": ".py",
   "mimetype": "text/x-python",
   "name": "python",
   "nbconvert_exporter": "python",
   "pygments_lexer": "ipython3",
   "version": "3.12.7"
  }
 },
 "nbformat": 4,
 "nbformat_minor": 2
}
